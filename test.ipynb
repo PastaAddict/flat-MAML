{
 "cells": [
  {
   "cell_type": "code",
   "execution_count": 1,
   "metadata": {},
   "outputs": [],
   "source": [
    "import torch\n",
    "import math\n",
    "import os\n",
    "import time\n",
    "import json\n",
    "import logging\n",
    "import warnings\n",
    "\n",
    "from collections import OrderedDict\n",
    "from torchmeta.utils.data import BatchMetaDataLoader\n",
    "\n",
    "from maml.datasets import get_benchmark_by_name\n",
    "from maml.metalearners import ModelAgnosticMetaLearning\n",
    "from maml.metalearners import FlatModelAgnosticMetaLearning\n",
    "from maml.metalearners import SamModelAgnosticMetaLearning\n",
    "\n",
    "from sam import SAM\n",
    "from sam_folder.model.smooth_cross_entropy import smooth_crossentropy\n",
    "from sam_folder.utility.bypass_bn import enable_running_stats, disable_running_stats\n",
    "from sam_folder.model.wide_res_net import WideResNet\n",
    "from sam_folder.utility.step_lr import StepLR\n",
    "\n",
    "device = torch.device('cuda' if  torch.cuda.is_available() else 'cpu')\n",
    "warnings.filterwarnings('ignore')"
   ]
  },
  {
   "cell_type": "code",
   "execution_count": 24,
   "metadata": {},
   "outputs": [],
   "source": [
    "ways=5\n",
    "shots=1\n",
    "meta_lr=0.003\n",
    "fast_lr=0.5\n",
    "meta_batch_size=32\n",
    "\n",
    "benchmark = get_benchmark_by_name('omniglot',\n",
    "                                      './data',\n",
    "                                      ways,\n",
    "                                      shots,\n",
    "                                      shots,\n",
    "                                      hidden_size=64)\n",
    "\n",
    "meta_test_dataloader = BatchMetaDataLoader(benchmark.meta_test_dataset,\n",
    "                                            batch_size=32,\n",
    "                                            shuffle=True,\n",
    "                                            num_workers=2,\n",
    "                                            pin_memory=True)\n",
    "with open('/home/kristi/Desktop/maml_res/models/flat_omni.pth', 'rb') as f:\n",
    "        benchmark.model.load_state_dict(torch.load(f, map_location=device))\n",
    "\n",
    "metalearner = ModelAgnosticMetaLearning(benchmark.model,\n",
    "                                        first_order=False,\n",
    "                                        num_adaptation_steps=1,\n",
    "                                        step_size=fast_lr,\n",
    "                                        loss_function=benchmark.loss_function,\n",
    "                                        device=device)"
   ]
  },
  {
   "cell_type": "code",
   "execution_count": 21,
   "metadata": {},
   "outputs": [
    {
     "name": "stderr",
     "output_type": "stream",
     "text": [
      "Test: 100%|██████████| 500/500 [01:16<00:00,  6.50it/s, accuracy=0.9843, loss=0.0451]\n"
     ]
    }
   ],
   "source": [
    "results = metalearner.evaluate(meta_test_dataloader,\n",
    "                                   max_batches=500,\n",
    "                                   verbose=True,\n",
    "                                   desc='Test')"
   ]
  },
  {
   "cell_type": "code",
   "execution_count": 23,
   "metadata": {},
   "outputs": [
    {
     "name": "stderr",
     "output_type": "stream",
     "text": [
      "Test: 100%|██████████| 500/500 [01:14<00:00,  6.74it/s, accuracy=0.9878, loss=0.0356]\n"
     ]
    }
   ],
   "source": [
    "results = metalearner.evaluate(meta_test_dataloader,\n",
    "                                   max_batches=500,\n",
    "                                   verbose=True,\n",
    "                                   desc='Test')"
   ]
  },
  {
   "cell_type": "code",
   "execution_count": 25,
   "metadata": {},
   "outputs": [
    {
     "name": "stderr",
     "output_type": "stream",
     "text": [
      "Test: 100%|██████████| 500/500 [01:22<00:00,  6.07it/s, accuracy=0.9762, loss=0.0701]\n"
     ]
    }
   ],
   "source": [
    "results = metalearner.evaluate(meta_test_dataloader,\n",
    "                                   max_batches=500,\n",
    "                                   verbose=True,\n",
    "                                   desc='Test')"
   ]
  },
  {
   "cell_type": "code",
   "execution_count": null,
   "metadata": {},
   "outputs": [],
   "source": []
  }
 ],
 "metadata": {
  "kernelspec": {
   "display_name": "Python 3.9.13 ('base': conda)",
   "language": "python",
   "name": "python3"
  },
  "language_info": {
   "codemirror_mode": {
    "name": "ipython",
    "version": 3
   },
   "file_extension": ".py",
   "mimetype": "text/x-python",
   "name": "python",
   "nbconvert_exporter": "python",
   "pygments_lexer": "ipython3",
   "version": "3.9.13"
  },
  "orig_nbformat": 4,
  "vscode": {
   "interpreter": {
    "hash": "fd1d53b0a861eac4c89bbd16ce82916397ef5b3b9040695bbd2a5c23b8c04acd"
   }
  }
 },
 "nbformat": 4,
 "nbformat_minor": 2
}
